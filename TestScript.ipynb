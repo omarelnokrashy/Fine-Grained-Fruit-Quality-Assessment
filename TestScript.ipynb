{
 "cells": [
  {
   "cell_type": "code",
   "execution_count": 1,
   "id": "79034edf",
   "metadata": {},
   "outputs": [
    {
     "name": "stderr",
     "output_type": "stream",
     "text": [
      "2025-05-18 00:00:21.073543: I tensorflow/core/util/port.cc:153] oneDNN custom operations are on. You may see slightly different numerical results due to floating-point round-off errors from different computation orders. To turn them off, set the environment variable `TF_ENABLE_ONEDNN_OPTS=0`.\n",
      "2025-05-18 00:00:21.073969: I external/local_xla/xla/tsl/cuda/cudart_stub.cc:32] Could not find cuda drivers on your machine, GPU will not be used.\n",
      "2025-05-18 00:00:21.076730: I external/local_xla/xla/tsl/cuda/cudart_stub.cc:32] Could not find cuda drivers on your machine, GPU will not be used.\n",
      "2025-05-18 00:00:21.083526: E external/local_xla/xla/stream_executor/cuda/cuda_fft.cc:467] Unable to register cuFFT factory: Attempting to register factory for plugin cuFFT when one has already been registered\n",
      "WARNING: All log messages before absl::InitializeLog() is called are written to STDERR\n",
      "E0000 00:00:1747515621.094273   15193 cuda_dnn.cc:8579] Unable to register cuDNN factory: Attempting to register factory for plugin cuDNN when one has already been registered\n",
      "E0000 00:00:1747515621.097340   15193 cuda_blas.cc:1407] Unable to register cuBLAS factory: Attempting to register factory for plugin cuBLAS when one has already been registered\n",
      "W0000 00:00:1747515621.105642   15193 computation_placer.cc:177] computation placer already registered. Please check linkage and avoid linking the same target more than once.\n",
      "W0000 00:00:1747515621.105653   15193 computation_placer.cc:177] computation placer already registered. Please check linkage and avoid linking the same target more than once.\n",
      "W0000 00:00:1747515621.105655   15193 computation_placer.cc:177] computation placer already registered. Please check linkage and avoid linking the same target more than once.\n",
      "W0000 00:00:1747515621.105656   15193 computation_placer.cc:177] computation placer already registered. Please check linkage and avoid linking the same target more than once.\n",
      "2025-05-18 00:00:21.108855: I tensorflow/core/platform/cpu_feature_guard.cc:210] This TensorFlow binary is optimized to use available CPU instructions in performance-critical operations.\n",
      "To enable the following instructions: AVX2 AVX512F AVX512_VNNI FMA, in other operations, rebuild TensorFlow with the appropriate compiler flags.\n"
     ]
    }
   ],
   "source": [
    "import tensorflow as tf\n",
    "import pandas as pd\n",
    "import numpy as np\n",
    "import os\n",
    "from Transformer import Create_Transformer\n",
    "from tensorflow.keras.preprocessing.image import ImageDataGenerator\n"
   ]
  },
  {
   "cell_type": "markdown",
   "id": "ff2c042f",
   "metadata": {},
   "source": [
    "# Load Models "
   ]
  },
  {
   "cell_type": "markdown",
   "id": "70656a12",
   "metadata": {},
   "source": [
    "## AlexNet\n"
   ]
  },
  {
   "cell_type": "code",
   "execution_count": 2,
   "id": "bedbf0f3",
   "metadata": {},
   "outputs": [
    {
     "name": "stderr",
     "output_type": "stream",
     "text": [
      "E0000 00:00:1747515623.052530   15193 cuda_executor.cc:1228] INTERNAL: CUDA Runtime error: Failed call to cudaGetRuntimeVersion: Error loading CUDA libraries. GPU will not be used.: Error loading CUDA libraries. GPU will not be used.\n",
      "W0000 00:00:1747515623.052885   15193 gpu_device.cc:2341] Cannot dlopen some GPU libraries. Please make sure the missing libraries mentioned above are installed properly if you would like to use GPU. Follow the guide at https://www.tensorflow.org/install/gpu for how to download and setup the required libraries for your platform.\n",
      "Skipping registering GPU devices...\n"
     ]
    }
   ],
   "source": [
    "AlexNet = tf.keras.models.load_model('Models/AlexNet/alexnet_model.keras')"
   ]
  },
  {
   "cell_type": "markdown",
   "id": "d87a4332",
   "metadata": {},
   "source": [
    "## Inception Model"
   ]
  },
  {
   "cell_type": "code",
   "execution_count": 3,
   "id": "2b771745",
   "metadata": {},
   "outputs": [],
   "source": [
    "Inception_model = tf.keras.models.load_model('Models/inception_model/inception_model.keras')"
   ]
  },
  {
   "cell_type": "markdown",
   "id": "8f577bdb",
   "metadata": {},
   "source": [
    "## Transformer Model"
   ]
  },
  {
   "cell_type": "code",
   "execution_count": 4,
   "id": "9c8ae1c7",
   "metadata": {},
   "outputs": [
    {
     "name": "stderr",
     "output_type": "stream",
     "text": [
      "/home/nok/Downloads/Discussion /env/lib/python3.12/site-packages/keras/src/layers/convolutional/base_conv.py:107: UserWarning: Do not pass an `input_shape`/`input_dim` argument to a layer. When using Sequential models, prefer using an `Input(shape)` object as the first layer in the model instead.\n",
      "  super().__init__(activity_regularizer=activity_regularizer, **kwargs)\n",
      "/home/nok/Downloads/Discussion /env/lib/python3.12/site-packages/keras/src/saving/saving_lib.py:757: UserWarning: Skipping variable loading for optimizer 'adamw', because it has 2 variables whereas the saved optimizer has 228 variables. \n",
      "  saveable.load_own_variables(weights_store.get(inner_path))\n"
     ]
    }
   ],
   "source": [
    "IMAGE_SIZE =224   \n",
    "CHANNELS = 3\n",
    "NUM_CLASSES = 7 \n",
    "\n",
    "transformer_model = Create_Transformer(\n",
    "    image_size=IMAGE_SIZE,\n",
    "    num_classes=NUM_CLASSES,\n",
    "    channels=CHANNELS\n",
    ")\n",
    "\n",
    "transformer_model.compile(\n",
    "    optimizer=tf.keras.optimizers.AdamW(learning_rate=1e-4),\n",
    "    loss=tf.keras.losses.CategoricalCrossentropy(from_logits=False),\n",
    "    metrics=['accuracy']\n",
    ")\n",
    "transformer_model.load_weights('Models/Transformer/Transformer_final.weights.h5')"
   ]
  },
  {
   "cell_type": "markdown",
   "id": "940ff9a7",
   "metadata": {},
   "source": [
    "## Test Script"
   ]
  },
  {
   "cell_type": "code",
   "execution_count": 5,
   "id": "9735c1db",
   "metadata": {},
   "outputs": [
    {
     "name": "stdout",
     "output_type": "stream",
     "text": [
      "Found 2484 validated image filenames.\n"
     ]
    },
    {
     "name": "stderr",
     "output_type": "stream",
     "text": [
      "/home/nok/Downloads/Discussion /env/lib/python3.12/site-packages/keras/src/trainers/data_adapters/py_dataset_adapter.py:121: UserWarning: Your `PyDataset` class should call `super().__init__(**kwargs)` in its constructor. `**kwargs` can include `workers`, `use_multiprocessing`, `max_queue_size`. Do not pass these arguments to `fit()`, as they will be ignored.\n",
      "  self._warn_if_super_not_called()\n",
      "WARNING: All log messages before absl::InitializeLog() is called are written to STDERR\n",
      "I0000 00:00:1747515630.114655   15286 service.cc:152] XLA service 0x760a04009040 initialized for platform Host (this does not guarantee that XLA will be used). Devices:\n",
      "I0000 00:00:1747515630.114675   15286 service.cc:160]   StreamExecutor device (0): Host, Default Version\n",
      "2025-05-18 00:00:30.120363: I tensorflow/compiler/mlir/tensorflow/utils/dump_mlir_util.cc:269] disabling MLIR crash reproducer, set env var `MLIR_CRASH_REPRODUCER_DIRECTORY` to enable.\n",
      "I0000 00:00:1747515630.229463   15286 device_compiler.h:188] Compiled cluster using XLA!  This line is logged at most once for the lifetime of the process.\n"
     ]
    },
    {
     "name": "stdout",
     "output_type": "stream",
     "text": [
      "\u001b[1m78/78\u001b[0m \u001b[32m━━━━━━━━━━━━━━━━━━━━\u001b[0m\u001b[37m\u001b[0m \u001b[1m32s\u001b[0m 410ms/step\n",
      "Submission file 'submission_of_AlexNet.csv' has been created successfully!\n",
      "\u001b[1m78/78\u001b[0m \u001b[32m━━━━━━━━━━━━━━━━━━━━\u001b[0m\u001b[37m\u001b[0m \u001b[1m171s\u001b[0m 2s/step\n",
      "Submission file 'submission_of_Inception.csv' has been created successfully!\n",
      "\u001b[1m78/78\u001b[0m \u001b[32m━━━━━━━━━━━━━━━━━━━━\u001b[0m\u001b[37m\u001b[0m \u001b[1m114s\u001b[0m 1s/step\n",
      "Submission file 'submission_of_Transformer.csv' has been created successfully!\n",
      "All models have been evaluated and submission files have been created.\n"
     ]
    }
   ],
   "source": [
    "Test_path ='testNew'\n",
    "\n",
    "models = {\n",
    "    \"AlexNet\": AlexNet,\n",
    "    \"Inception\": Inception_model,\n",
    "    \"Transformer\": transformer_model\n",
    "}\n",
    "\n",
    "class_mapping = {\n",
    "    'banana_overripe': 0,\n",
    "    'banana_ripe': 1,\n",
    "    'banana_rotten': 2,\n",
    "    'banana_unripe': 3,\n",
    "    'tomato_fully_ripened': 4,\n",
    "    'tomato_green': 5,\n",
    "    'tomato_half_ripened': 6\n",
    "}\n",
    "\n",
    "reverse_class_mapping = {v: k for k, v in class_mapping.items()}\n",
    "\n",
    "\n",
    "test_data_gen = ImageDataGenerator(    \n",
    "    rescale=1./255,\n",
    "    rotation_range=40,\n",
    "    shear_range=0.2,\n",
    "    zoom_range=0.2,\n",
    "    fill_mode='nearest')\n",
    "\n",
    "test_image_files = sorted([f for f in os.listdir(Test_path) if os.path.isfile(os.path.join(Test_path, f))])\n",
    "\n",
    "test_data = test_data_gen.flow_from_dataframe(\n",
    "    pd.DataFrame({'filename': test_image_files}),\n",
    "    directory=Test_path,\n",
    "    x_col='filename',\n",
    "    target_size=(224, 224),\n",
    "    batch_size=32,\n",
    "    class_mode=None,\n",
    "    shuffle=False\n",
    ")\n",
    "\n",
    "for model_name, model in models.items():\n",
    "    test_preds = model.predict(test_data)\n",
    "    predicted_classes = np.argmax(test_preds, axis=1)\n",
    "    image_ids = test_image_files\n",
    "    submission_df = pd.DataFrame({'ImageID': image_ids, 'Class': predicted_classes})\n",
    "    submission_df.to_csv(f'CHP_2 Submissions/submission_of_{model_name}.csv', index=False)\n",
    "    print(f\"Submission file 'submission_of_{model_name}.csv' has been created successfully!\")\n",
    "\n",
    "print(\"All models have been evaluated and submission files have been created.\")"
   ]
  },
  {
   "cell_type": "code",
   "execution_count": null,
   "id": "a24b7659",
   "metadata": {},
   "outputs": [],
   "source": []
  }
 ],
 "metadata": {
  "kernelspec": {
   "display_name": "env",
   "language": "python",
   "name": "python3"
  },
  "language_info": {
   "codemirror_mode": {
    "name": "ipython",
    "version": 3
   },
   "file_extension": ".py",
   "mimetype": "text/x-python",
   "name": "python",
   "nbconvert_exporter": "python",
   "pygments_lexer": "ipython3",
   "version": "3.12.3"
  }
 },
 "nbformat": 4,
 "nbformat_minor": 5
}
